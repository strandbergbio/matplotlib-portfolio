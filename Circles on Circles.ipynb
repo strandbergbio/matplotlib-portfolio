{
 "cells": [
  {
   "cell_type": "code",
   "execution_count": 1,
   "metadata": {
    "collapsed": false
   },
   "outputs": [],
   "source": [
    "import numpy as np\n",
    "import matplotlib.pyplot as plt\n",
    "import matplotlib.animation as animation\n",
    "import math\n",
    "from __future__ import division"
   ]
  },
  {
   "cell_type": "code",
   "execution_count": 2,
   "metadata": {
    "collapsed": false,
    "scrolled": false
   },
   "outputs": [],
   "source": [
    "# def primes_up_to(n):\n",
    "#     isprime = [True] * (n+1)\n",
    "#     isprime[0] = False\n",
    "#     isprime[1] = False\n",
    "    \n",
    "#     for x, p in enumerate(isprime):\n",
    "#         if p:\n",
    "#             if x**2 <= n:\n",
    "#                 isprime[x**2:n+1:x] = [False] * ((n+1-x**2)//x)\n",
    "    \n",
    "#     return filter(lambda x: isprime[x], range(n+1))\n",
    "\n",
    "# primes_up_to(100)\n",
    "    \n",
    "    \n",
    "    "
   ]
  },
  {
   "cell_type": "code",
   "execution_count": null,
   "metadata": {
    "collapsed": false
   },
   "outputs": [],
   "source": [
    "fig = plt.figure(figsize=(5,5), dpi=200, edgecolor='none')\n",
    "ax = fig.add_axes([0,0,1,1])\n",
    "ax.get_xaxis().set_visible(False)\n",
    "ax.get_yaxis().set_visible(False)\n",
    "\n",
    "R = 7\n",
    "r = 10\n",
    "\n",
    "N = 140\n",
    "omega = 2 * np.pi / N\n",
    "num_frames = 7 * N\n",
    "\n",
    "ax.set_xlim(-1.1*(R + 2*r), 1.1*(R + 2*r))\n",
    "ax.set_ylim(-1.1*(R + 2*r), 1.1*(R + 2*r))\n",
    "\n",
    "\n",
    "center_circle = plt.Circle((0,0), radius=R, facecolor='none')\n",
    "outer_circle = plt.Circle((0,R + r), radius=r, facecolor='none')\n",
    "pt, = ax.plot(0, R + 2*r, 'o', color='black')\n",
    "curve, = ax.plot([],[], '-', color='red')\n",
    "plt.gca().add_patch(center_circle)\n",
    "plt.gca().add_patch(outer_circle)\n",
    "\n",
    "def circle_points(radius, omega, num_frames):\n",
    "    vec = omega*np.arange(num_frames).reshape(-1,1)\n",
    "    return radius * np.concatenate(\n",
    "        [fn(vec) for fn in [np.sin, np.cos]], axis=1)\n",
    "\n",
    "outer_center = circle_points(R+r, omega, num_frames)\n",
    "outer_point = outer_center + circle_points(r, max(R/r,r/R)*omega, num_frames)\n",
    "\n",
    "def animate(i):\n",
    "    outer_circle.center = outer_center[i,0], outer_center[i,1]\n",
    "    pt.set_data(outer_point[i,0], outer_point[i,1])\n",
    "    curve.set_data(outer_point[:i,:].T)\n",
    "    return outer_circle, pt, curve,\n",
    "\n",
    "\n",
    "    \n",
    "anim = animation.FuncAnimation(fig, animate, frames=num_frames, interval=10)\n",
    "anim.save(\"circles.mp4\", fps=30, writer='avconv', codec='libx264', dpi=200)\n",
    "plt.show()"
   ]
  }
 ],
 "metadata": {
  "kernelspec": {
   "display_name": "Python 2",
   "language": "python",
   "name": "python2"
  },
  "language_info": {
   "codemirror_mode": {
    "name": "ipython",
    "version": 2
   },
   "file_extension": ".py",
   "mimetype": "text/x-python",
   "name": "python",
   "nbconvert_exporter": "python",
   "pygments_lexer": "ipython2",
   "version": "2.7.6"
  }
 },
 "nbformat": 4,
 "nbformat_minor": 0
}
