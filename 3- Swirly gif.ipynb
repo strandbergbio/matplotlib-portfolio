{
 "cells": [
  {
   "cell_type": "code",
   "execution_count": 1,
   "metadata": {
    "collapsed": false
   },
   "outputs": [],
   "source": [
    "import numpy as np\n",
    "import matplotlib.pyplot as plt\n",
    "import matplotlib.animation as animation\n",
    "from moviepy.video.io.bindings import mplfig_to_npimage\n",
    "from moviepy.editor import VideoClip\n"
   ]
  },
  {
   "cell_type": "code",
   "execution_count": 2,
   "metadata": {
    "collapsed": false,
    "scrolled": true
   },
   "outputs": [
    {
     "name": "stdout",
     "output_type": "stream",
     "text": [
      "\n",
      "[MoviePy] >>>> Building file swirly.gif\n",
      "[MoviePy] Generating GIF frames...\n"
     ]
    },
    {
     "name": "stderr",
     "output_type": "stream",
     "text": [
      " 99%|█████████▉| 180/181 [00:26<00:00,  6.79it/s]"
     ]
    },
    {
     "name": "stdout",
     "output_type": "stream",
     "text": [
      "[MoviePy] Optimizing the GIF with ImageMagick...\n"
     ]
    },
    {
     "name": "stderr",
     "output_type": "stream",
     "text": [
      "\n"
     ]
    },
    {
     "name": "stdout",
     "output_type": "stream",
     "text": [
      "[MoviePy] >>>> File swirly.gif is ready !"
     ]
    }
   ],
   "source": [
    "N = 7\n",
    "\n",
    "frames = 3\n",
    "rs = 0.95*np.array([10, 4.5, 2.5])\n",
    "delta_r = 0.8*2\n",
    "omegas = (2*np.pi/frames)*np.array([0.5, 1.0, 2.0])\n",
    "\n",
    "\n",
    "fig = plt.figure(figsize=(6,6),dpi=300)\n",
    "fig.patch.set_facecolor('black')\n",
    "ax = fig.add_axes([0,0,1,1], xlim=(-15,15), ylim=(-15,15))\n",
    "ax.axis('off')\n",
    "\n",
    "thetas = 2*np.pi/N*np.arange(N)\n",
    "\n",
    "def points(thetas, R):\n",
    "    x = R * np.cos(thetas).reshape(N,1)\n",
    "    y = R * np.sin(thetas).reshape(N,1)\n",
    "    return np.concatenate((x,y),axis=1)\n",
    "\n",
    "pt0, = ax.plot([],[],'o',c='white',markeredgewidth=0, markersize=12)\n",
    "pt1, = ax.plot([],[],'o',c='white',markeredgewidth=0, markersize=9)\n",
    "pt2, = ax.plot([],[],'o',c='white',markeredgewidth=0, markersize=6)\n",
    "\n",
    "def init():\n",
    "    pt0.set_data([],[])\n",
    "    pt1.set_data([],[])\n",
    "    pt2.set_data([],[])\n",
    "    return pt0, pt1, pt2,\n",
    "\n",
    "# def animate(i):\n",
    "#     p0 = points(thetas + i * omegas[0], rs[0] - delta_r * np.cos(i * omegas[1]))\n",
    "#     p1 = p0 + points(thetas + i * omegas[1], rs[1])\n",
    "#     p2 = p1 + points(thetas + i * omegas[2], rs[2])\n",
    "#     pt0.set_data(p0.T)\n",
    "#     pt1.set_data(p1.T)\n",
    "#     pt2.set_data(p2.T)\n",
    "#     fig.canvas.draw()\n",
    "#     return pt0, pt1, pt2,\n",
    "\n",
    "# anim = animation.FuncAnimation(fig, animate, interval=1, frames=2*frames, \n",
    "#                               blit = True, init_func=init)\n",
    "\n",
    "# anim.save('swirly.mp4', fps=30, writer='ffmpeg', codec='libx264')\n",
    "# plt.show()\n",
    "\n",
    "def make_frame(i):\n",
    "    p0 = points(thetas + i * omegas[0], rs[0] - delta_r * np.cos(i * omegas[1]))\n",
    "    p1 = p0 + points(thetas + i * omegas[1], rs[1])\n",
    "    p2 = p1 + points(thetas + i * omegas[2], rs[2])\n",
    "    pt0.set_data(p0.T)\n",
    "    pt1.set_data(p1.T)\n",
    "    pt2.set_data(p2.T)\n",
    "    fig.canvas.draw()\n",
    "    return mplfig_to_npimage(fig)\n",
    "\n",
    "anim = VideoClip(make_frame)\n",
    "anim.set_duration(6).write_gif(\"swirly.gif\", fps=30,\n",
    "                               program=\"ImageMagick\",\n",
    "                               opt=\"OptimizeTransparency\")"
   ]
  }
 ],
 "metadata": {
  "kernelspec": {
   "display_name": "Python 2",
   "language": "python",
   "name": "python2"
  },
  "language_info": {
   "codemirror_mode": {
    "name": "ipython",
    "version": 2
   },
   "file_extension": ".py",
   "mimetype": "text/x-python",
   "name": "python",
   "nbconvert_exporter": "python",
   "pygments_lexer": "ipython2",
   "version": "2.7.6"
  }
 },
 "nbformat": 4,
 "nbformat_minor": 0
}
